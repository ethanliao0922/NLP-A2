{
  "nbformat": 4,
  "nbformat_minor": 0,
  "metadata": {
    "colab": {
      "provenance": [],
      "gpuType": "T4"
    },
    "kernelspec": {
      "name": "python3",
      "display_name": "Python 3"
    },
    "language_info": {
      "name": "python"
    },
    "accelerator": "GPU"
  },
  "cells": [
    {
      "cell_type": "markdown",
      "source": [
        "**Clone the GitHub Repository in Colab**"
      ],
      "metadata": {
        "id": "NQ66UqBiTw-3"
      }
    },
    {
      "cell_type": "code",
      "source": [
        "!git clone https://github.com/ethanliao0922/NLP-A2.git"
      ],
      "metadata": {
        "colab": {
          "base_uri": "https://localhost:8080/"
        },
        "id": "4iHVyYkhRapc",
        "outputId": "6ac062bc-a3e8-466a-ea91-dd26414e7446"
      },
      "execution_count": 6,
      "outputs": [
        {
          "output_type": "stream",
          "name": "stdout",
          "text": [
            "Cloning into 'NLP-A2'...\n",
            "remote: Enumerating objects: 50, done.\u001b[K\n",
            "remote: Counting objects: 100% (46/46), done.\u001b[K\n",
            "remote: Compressing objects: 100% (33/33), done.\u001b[K\n",
            "remote: Total 50 (delta 24), reused 34 (delta 13), pack-reused 4 (from 1)\u001b[K\n",
            "Receiving objects: 100% (50/50), 87.48 MiB | 22.98 MiB/s, done.\n",
            "Resolving deltas: 100% (24/24), done.\n"
          ]
        }
      ]
    },
    {
      "cell_type": "code",
      "source": [
        "%cd NLP-A2"
      ],
      "metadata": {
        "colab": {
          "base_uri": "https://localhost:8080/"
        },
        "id": "jBg4kA9dRcxc",
        "outputId": "042029e0-d6f9-4a61-c2c7-572e4797773f"
      },
      "execution_count": 7,
      "outputs": [
        {
          "output_type": "stream",
          "name": "stdout",
          "text": [
            "/content/NLP-A2/NLP-A2\n"
          ]
        }
      ]
    },
    {
      "cell_type": "markdown",
      "source": [
        "**Feedforward Neural Network (FFNN)**"
      ],
      "metadata": {
        "id": "MSvDn0zJT0YR"
      }
    },
    {
      "cell_type": "code",
      "source": [
        "!python ffnn.py --hidden_dim 128 --epochs 5 --train_data \"./training.json\" --val_data \"./validation.json\" --test_data \"./test.json\""
      ],
      "metadata": {
        "colab": {
          "base_uri": "https://localhost:8080/"
        },
        "id": "Gq_7ujxORxva",
        "outputId": "a81d4199-3f7e-4bec-dfb9-d754e54b4304"
      },
      "execution_count": 8,
      "outputs": [
        {
          "output_type": "stream",
          "name": "stdout",
          "text": [
            "Using device: cuda\n",
            "========== Loading data ==========\n",
            "========== Vectoclearrizing data ==========\n",
            "========== Training for 5 epochs ==========\n",
            "Training started for epoch 1\n",
            "  0% 0/500 [00:00<?, ?it/s]/usr/local/lib/python3.10/dist-packages/torch/nn/modules/module.py:1736: UserWarning: Implicit dimension choice for log_softmax has been deprecated. Change the call to include dim=X as an argument.\n",
            "  return self._call_impl(*args, **kwargs)\n",
            "100% 500/500 [00:09<00:00, 53.33it/s]\n",
            "Training completed for epoch 1\n",
            "Training accuracy for epoch 1: 0.530125\n",
            "Training time for this epoch: 9.37987232208252\n",
            "Validation started for epoch 1\n",
            "100% 50/50 [00:00<00:00, 129.62it/s]\n",
            "Validation completed for epoch 1\n",
            "Validation accuracy for epoch 1: 0.5425\n",
            "Validation time for this epoch: 0.38619160652160645\n",
            "Training started for epoch 2\n",
            "100% 500/500 [00:08<00:00, 55.78it/s]\n",
            "Training completed for epoch 2\n",
            "Training accuracy for epoch 2: 0.58475\n",
            "Training time for this epoch: 8.96761679649353\n",
            "Validation started for epoch 2\n",
            "100% 50/50 [00:00<00:00, 173.97it/s]\n",
            "Validation completed for epoch 2\n",
            "Validation accuracy for epoch 2: 0.59875\n",
            "Validation time for this epoch: 0.2877669334411621\n",
            "Training started for epoch 3\n",
            "100% 500/500 [00:09<00:00, 54.32it/s]\n",
            "Training completed for epoch 3\n",
            "Training accuracy for epoch 3: 0.618125\n",
            "Training time for this epoch: 9.210384368896484\n",
            "Validation started for epoch 3\n",
            "100% 50/50 [00:00<00:00, 167.19it/s]\n",
            "Validation completed for epoch 3\n",
            "Validation accuracy for epoch 3: 0.585\n",
            "Validation time for this epoch: 0.29940223693847656\n",
            "Training started for epoch 4\n",
            "100% 500/500 [00:09<00:00, 54.34it/s]\n",
            "Training completed for epoch 4\n",
            "Training accuracy for epoch 4: 0.642875\n",
            "Training time for this epoch: 9.205787658691406\n",
            "Validation started for epoch 4\n",
            "100% 50/50 [00:00<00:00, 169.21it/s]\n",
            "Validation completed for epoch 4\n",
            "Validation accuracy for epoch 4: 0.58875\n",
            "Validation time for this epoch: 0.29584836959838867\n",
            "Training started for epoch 5\n",
            "100% 500/500 [00:09<00:00, 54.01it/s]\n",
            "Training completed for epoch 5\n",
            "Training accuracy for epoch 5: 0.66575\n",
            "Training time for this epoch: 9.262172222137451\n",
            "Validation started for epoch 5\n",
            "100% 50/50 [00:00<00:00, 170.27it/s]\n",
            "Validation completed for epoch 5\n",
            "Validation accuracy for epoch 5: 0.62\n",
            "Validation time for this epoch: 0.2940061092376709\n",
            "========== Loading and Vectorizing Test Data ==========\n",
            "========== Testing Model ==========\n",
            "Testing completed.\n",
            "Test Accuracy: 0.04625\n",
            "Testing time: 0.17548251152038574\n"
          ]
        }
      ]
    },
    {
      "cell_type": "markdown",
      "source": [
        "**Recurrent Neural Networks (RNN)**"
      ],
      "metadata": {
        "id": "I5Wls6y5T3l_"
      }
    },
    {
      "cell_type": "code",
      "source": [
        "!unzip Data_Embedding/word_embedding.pkl.zip -d Data_Embedding"
      ],
      "metadata": {
        "colab": {
          "base_uri": "https://localhost:8080/"
        },
        "id": "NMI1wI45eaJm",
        "outputId": "4b865dbe-e44f-4aab-fc5d-4f71aa95c470"
      },
      "execution_count": 9,
      "outputs": [
        {
          "output_type": "stream",
          "name": "stdout",
          "text": [
            "Archive:  Data_Embedding/word_embedding.pkl.zip\n",
            "  inflating: Data_Embedding/word_embedding.pkl  \n",
            "  inflating: Data_Embedding/__MACOSX/._word_embedding.pkl  \n"
          ]
        }
      ]
    },
    {
      "cell_type": "code",
      "source": [
        "!python rnn.py --hidden_dim 128 --epochs 5 --train_data \"./Data_Embedding/training.json\" --val_data \"./Data_Embedding/validation.json\" --test_data \"./Data_Embedding/test.json\""
      ],
      "metadata": {
        "colab": {
          "base_uri": "https://localhost:8080/"
        },
        "id": "TCjf9T_rT4kU",
        "outputId": "0ebb50e1-7c83-4439-e9ad-89483837f716"
      },
      "execution_count": 10,
      "outputs": [
        {
          "output_type": "stream",
          "name": "stdout",
          "text": [
            "Using device: cuda\n",
            "========== Loading data ==========\n",
            "========== Vectorizing data ==========\n",
            "Training started for epoch 1\n",
            "  0% 0/1000 [00:00<?, ?it/s]/content/NLP-A2/NLP-A2/rnn.py:126: UserWarning: Creating a tensor from a list of numpy.ndarrays is extremely slow. Please consider converting the list to a single numpy.ndarray with numpy.array() before converting to a tensor. (Triggered internally at ../torch/csrc/utils/tensor_new.cpp:278.)\n",
            "  vectors = torch.tensor(vectors, device=device).view(len(vectors), 1, -1)\n",
            "100% 1000/1000 [00:42<00:00, 23.40it/s]\n",
            "tensor(2.3357, device='cuda:0')\n",
            "Training completed for epoch 1\n",
            "Training accuracy for epoch 1: 0.307875\n",
            "Validation started for epoch 1\n",
            "100% 800/800 [00:01<00:00, 546.99it/s]\n",
            "Validation completed for epoch 1\n",
            "Validation accuracy for epoch 1: 0.30625\n",
            "Training started for epoch 2\n",
            "100% 1000/1000 [00:41<00:00, 24.36it/s]\n",
            "tensor(1.7721, device='cuda:0')\n",
            "Training completed for epoch 2\n",
            "Training accuracy for epoch 2: 0.2834375\n",
            "Validation started for epoch 2\n",
            "100% 800/800 [00:01<00:00, 539.29it/s]\n",
            "Validation completed for epoch 2\n",
            "Validation accuracy for epoch 2: 0.325\n",
            "Training started for epoch 3\n",
            "100% 1000/1000 [00:41<00:00, 23.88it/s]\n",
            "tensor(1.7788, device='cuda:0')\n",
            "Training completed for epoch 3\n",
            "Training accuracy for epoch 3: 0.2965625\n",
            "Validation started for epoch 3\n",
            "100% 800/800 [00:01<00:00, 533.78it/s]\n",
            "Validation completed for epoch 3\n",
            "Validation accuracy for epoch 3: 0.3475\n",
            "Training started for epoch 4\n",
            "100% 1000/1000 [00:41<00:00, 24.31it/s]\n",
            "tensor(1.7558, device='cuda:0')\n",
            "Training completed for epoch 4\n",
            "Training accuracy for epoch 4: 0.304125\n",
            "Validation started for epoch 4\n",
            "100% 800/800 [00:01<00:00, 546.80it/s]\n",
            "Validation completed for epoch 4\n",
            "Validation accuracy for epoch 4: 0.2675\n",
            "Training done to avoid overfitting!\n",
            "Best validation accuracy is: 0.3475\n",
            "========== Loading and Vectorizing Test Data ==========\n",
            "========== Testing Model ==========\n",
            "Testing completed.\n",
            "Test Accuracy: 0.3675\n",
            "Testing time: 1.2046332359313965\n"
          ]
        }
      ]
    }
  ]
}